{
  "nbformat": 4,
  "nbformat_minor": 0,
  "metadata": {
    "colab": {
      "provenance": [],
      "collapsed_sections": [
        "-gBAJXFU_oN9",
        "KG2QEkOl_bXE",
        "TC7Aki1aBAcN",
        "3WQVD7anBcHg"
      ],
      "authorship_tag": "ABX9TyNhcussd//H5LfNm5Hy4fJJ",
      "include_colab_link": true
    },
    "kernelspec": {
      "name": "python3",
      "display_name": "Python 3"
    },
    "language_info": {
      "name": "python"
    }
  },
  "cells": [
    {
      "cell_type": "markdown",
      "metadata": {
        "id": "view-in-github",
        "colab_type": "text"
      },
      "source": [
        "<a href=\"https://colab.research.google.com/github/GeorgeMartin2021/Probability_Statistics/blob/main/Martinez_Lab_3HW.ipynb\" target=\"_parent\"><img src=\"https://colab.research.google.com/assets/colab-badge.svg\" alt=\"Open In Colab\"/></a>"
      ]
    },
    {
      "cell_type": "markdown",
      "source": [
        "# Loops"
      ],
      "metadata": {
        "id": "-gBAJXFU_oN9"
      }
    },
    {
      "cell_type": "code",
      "execution_count": null,
      "metadata": {
        "colab": {
          "base_uri": "https://localhost:8080/"
        },
        "id": "V6qmeNe70oFp",
        "outputId": "60d3ddc7-48ff-4d4f-e9a4-ab2c2930c662"
      },
      "outputs": [
        {
          "output_type": "stream",
          "name": "stdout",
          "text": [
            "0\n",
            "1\n",
            "2\n",
            "3\n",
            "4\n",
            "5\n",
            "6\n",
            "7\n",
            "8\n",
            "9\n"
          ]
        }
      ],
      "source": [
        "for i in range(10): #for loop that counts to 10\n",
        "    print(i) #prints the loop"
      ]
    },
    {
      "cell_type": "code",
      "source": [
        "for i in range(3,9): #for loop that starts from 3 to 9\n",
        "    print(i) #prints the loop"
      ],
      "metadata": {
        "colab": {
          "base_uri": "https://localhost:8080/"
        },
        "id": "s5A4jxsV-qwV",
        "outputId": "12e82bce-dd30-4b1d-d4ac-803497e7ee6b"
      },
      "execution_count": null,
      "outputs": [
        {
          "output_type": "stream",
          "name": "stdout",
          "text": [
            "3\n",
            "4\n",
            "5\n",
            "6\n",
            "7\n",
            "8\n"
          ]
        }
      ]
    },
    {
      "cell_type": "code",
      "source": [
        "for i in range(4): #for loop that counts from 0 to 4\n",
        "    print(\"Test Number:\", i) #prints the numbers with text"
      ],
      "metadata": {
        "colab": {
          "base_uri": "https://localhost:8080/"
        },
        "id": "tTM7xAUm-2BR",
        "outputId": "c3591d77-6154-4720-caba-a9e561b91a36"
      },
      "execution_count": null,
      "outputs": [
        {
          "output_type": "stream",
          "name": "stdout",
          "text": [
            "Test Number: 0\n",
            "Test Number: 1\n",
            "Test Number: 2\n",
            "Test Number: 3\n"
          ]
        }
      ]
    },
    {
      "cell_type": "markdown",
      "source": [
        "# Functions"
      ],
      "metadata": {
        "id": "KG2QEkOl_bXE"
      }
    },
    {
      "cell_type": "code",
      "source": [
        "def square(x): #python function\n",
        "    return x**2 #returning square"
      ],
      "metadata": {
        "id": "es1u443Z_jEM"
      },
      "execution_count": null,
      "outputs": []
    },
    {
      "cell_type": "code",
      "source": [
        "square(5) #square of a number"
      ],
      "metadata": {
        "colab": {
          "base_uri": "https://localhost:8080/"
        },
        "id": "q3P8YHqS_vEb",
        "outputId": "645ff60d-3e9d-47df-fc87-b002e012b750"
      },
      "execution_count": null,
      "outputs": [
        {
          "output_type": "execute_result",
          "data": {
            "text/plain": [
              "25"
            ]
          },
          "metadata": {},
          "execution_count": 11
        }
      ]
    },
    {
      "cell_type": "code",
      "source": [
        "square(16) #squaring a number using the function as previous"
      ],
      "metadata": {
        "colab": {
          "base_uri": "https://localhost:8080/"
        },
        "id": "iyBmSTL2_z9T",
        "outputId": "d5cea813-2f9d-4b82-b545-dcfb9301be85"
      },
      "execution_count": null,
      "outputs": [
        {
          "output_type": "execute_result",
          "data": {
            "text/plain": [
              "256"
            ]
          },
          "metadata": {},
          "execution_count": 12
        }
      ]
    },
    {
      "cell_type": "code",
      "source": [
        "square(square(3)) #squaring the squaring function"
      ],
      "metadata": {
        "colab": {
          "base_uri": "https://localhost:8080/"
        },
        "id": "eQW4_eRw_8_c",
        "outputId": "29c7e8bb-69a6-4c6d-a20c-5dd2d536bca2"
      },
      "execution_count": null,
      "outputs": [
        {
          "output_type": "execute_result",
          "data": {
            "text/plain": [
              "81"
            ]
          },
          "metadata": {},
          "execution_count": 13
        }
      ]
    },
    {
      "cell_type": "code",
      "source": [
        "def add_two(x): #python functon\n",
        "    return x+2 #the function will add + 2 to the number"
      ],
      "metadata": {
        "id": "cLuTsCtCAWxc"
      },
      "execution_count": null,
      "outputs": []
    },
    {
      "cell_type": "code",
      "source": [
        "add_two(9) #adding + 2 to 9"
      ],
      "metadata": {
        "colab": {
          "base_uri": "https://localhost:8080/"
        },
        "id": "Esh0IdesAWtc",
        "outputId": "615f9c9d-dcbc-40c0-891a-e8bf76b8046b"
      },
      "execution_count": null,
      "outputs": [
        {
          "output_type": "execute_result",
          "data": {
            "text/plain": [
              "11"
            ]
          },
          "metadata": {},
          "execution_count": 17
        }
      ]
    },
    {
      "cell_type": "code",
      "source": [
        "square(add_two(9)) #squaring the addition of + 2"
      ],
      "metadata": {
        "colab": {
          "base_uri": "https://localhost:8080/"
        },
        "id": "sbYUCTxaAWl2",
        "outputId": "7441842f-4c0d-430f-8e32-a5e450c04738"
      },
      "execution_count": null,
      "outputs": [
        {
          "output_type": "execute_result",
          "data": {
            "text/plain": [
              "121"
            ]
          },
          "metadata": {},
          "execution_count": 18
        }
      ]
    },
    {
      "cell_type": "markdown",
      "source": [
        "# Branching"
      ],
      "metadata": {
        "id": "TC7Aki1aBAcN"
      }
    },
    {
      "cell_type": "code",
      "source": [
        "choice = \"apple\" #stating that the choice is apple and it can now be used throughout the program"
      ],
      "metadata": {
        "id": "6bF44FDSBE9e"
      },
      "execution_count": null,
      "outputs": []
    },
    {
      "cell_type": "code",
      "source": [
        "if choice == \"apple\": #if the choice equals apple\n",
        "\n",
        "    print(\"You choose apples.\") #it will print this\n",
        "\n",
        "else: #if it does not meet that condition,\n",
        "    \n",
        "    print(\"You did not choose apples.\") #it will print this"
      ],
      "metadata": {
        "colab": {
          "base_uri": "https://localhost:8080/"
        },
        "id": "b-xr4OepBHd9",
        "outputId": "e2c152b2-e7a5-4f2d-a280-5bd3be440dca"
      },
      "execution_count": null,
      "outputs": [
        {
          "output_type": "stream",
          "name": "stdout",
          "text": [
            "You choose apples.\n"
          ]
        }
      ]
    },
    {
      "cell_type": "code",
      "source": [
        "choice = \"orange\" #now the choice is orange"
      ],
      "metadata": {
        "id": "ACd4xBt5BING"
      },
      "execution_count": null,
      "outputs": []
    },
    {
      "cell_type": "code",
      "source": [
        "if choice == \"apple\": #if choice = apple\n",
        "\n",
        "    print(\"You choose apples.\") #it will print this\n",
        "\n",
        "elif choice == \"orange\": #else if the choice equals orange\n",
        "\n",
        "    print(\"You choose oranges.\") #it will print this\n",
        "\n",
        "else: #if it doesnt equal either, it will print below\n",
        "    \n",
        "    print(\"You did not choose apples or oranges.\")"
      ],
      "metadata": {
        "colab": {
          "base_uri": "https://localhost:8080/"
        },
        "id": "muQbe965BIGV",
        "outputId": "61370fb2-6851-458a-fad9-8930ad202a2f"
      },
      "execution_count": null,
      "outputs": [
        {
          "output_type": "stream",
          "name": "stdout",
          "text": [
            "You choose oranges.\n"
          ]
        }
      ]
    },
    {
      "cell_type": "code",
      "source": [
        "if choice == \"apple\": #if the choice is apple\n",
        "\n",
        "    print(\"You choose apples.\") #it will print apple\n",
        "\n",
        "else: #if the choice was not apple, it will print below\n",
        "    \n",
        "    print(\"You did not choose apples.\")"
      ],
      "metadata": {
        "colab": {
          "base_uri": "https://localhost:8080/"
        },
        "id": "WaFq4cjoBIJ1",
        "outputId": "f0a09799-921a-4553-8ed7-420042ecb0f8"
      },
      "execution_count": null,
      "outputs": [
        {
          "output_type": "stream",
          "name": "stdout",
          "text": [
            "You did not choose apples.\n"
          ]
        }
      ]
    },
    {
      "cell_type": "markdown",
      "source": [
        "# User Input"
      ],
      "metadata": {
        "id": "3WQVD7anBcHg"
      }
    },
    {
      "cell_type": "code",
      "source": [
        "choice = input(\"Please enter your choice (i.e. apple): \") #asking user input to then store in the variable 'choice'"
      ],
      "metadata": {
        "colab": {
          "base_uri": "https://localhost:8080/"
        },
        "id": "qnwmDp6WCa1G",
        "outputId": "76a0648a-7144-494a-b54f-dc4cd1243346"
      },
      "execution_count": null,
      "outputs": [
        {
          "name": "stdout",
          "output_type": "stream",
          "text": [
            "Please enter your choice (i.e. apple): apple\n"
          ]
        }
      ]
    },
    {
      "cell_type": "code",
      "source": [
        "choice #stored variable of the user input"
      ],
      "metadata": {
        "colab": {
          "base_uri": "https://localhost:8080/",
          "height": 35
        },
        "id": "kyrJwgaFBmBc",
        "outputId": "743b7871-63a2-472c-ac7f-0b858b436c66"
      },
      "execution_count": null,
      "outputs": [
        {
          "output_type": "execute_result",
          "data": {
            "text/plain": [
              "'apple'"
            ],
            "application/vnd.google.colaboratory.intrinsic+json": {
              "type": "string"
            }
          },
          "metadata": {},
          "execution_count": 45
        }
      ]
    },
    {
      "cell_type": "code",
      "source": [
        "choice = input(\"Please enter your choice (i.e. apple): \") #asking user input to then store in the variable 'choice'"
      ],
      "metadata": {
        "colab": {
          "base_uri": "https://localhost:8080/"
        },
        "id": "YsrZinqJDGfm",
        "outputId": "6f12a03a-d777-4f61-8c79-63d11f67658f"
      },
      "execution_count": null,
      "outputs": [
        {
          "name": "stdout",
          "output_type": "stream",
          "text": [
            "Please enter your choice (i.e. apple): oranges\n"
          ]
        }
      ]
    },
    {
      "cell_type": "code",
      "source": [
        "choice #stored variable of the user input"
      ],
      "metadata": {
        "colab": {
          "base_uri": "https://localhost:8080/",
          "height": 35
        },
        "id": "q1Mx8DJ-DIlu",
        "outputId": "8a4e6404-3c0d-4c4d-c07e-8c1200093c17"
      },
      "execution_count": null,
      "outputs": [
        {
          "output_type": "execute_result",
          "data": {
            "text/plain": [
              "'oranges'"
            ],
            "application/vnd.google.colaboratory.intrinsic+json": {
              "type": "string"
            }
          },
          "metadata": {},
          "execution_count": 47
        }
      ]
    },
    {
      "cell_type": "code",
      "source": [
        "if choice == \"apple\":\n",
        "\n",
        "    print(\"You choose apples.\")\n",
        "\n",
        "elif choice == \"oranges\":\n",
        "\n",
        "    print(\"You choose oranges.\")\n",
        "\n",
        "else:\n",
        "    \n",
        "    print(\"You did not choose apples or oranges.\")"
      ],
      "metadata": {
        "colab": {
          "base_uri": "https://localhost:8080/"
        },
        "id": "XtCf-KW-CPwP",
        "outputId": "1c760a54-4db6-466d-aab7-bbe507ee45ec"
      },
      "execution_count": null,
      "outputs": [
        {
          "output_type": "stream",
          "name": "stdout",
          "text": [
            "You choose oranges.\n"
          ]
        }
      ]
    },
    {
      "cell_type": "markdown",
      "source": [
        "# Cards\n"
      ],
      "metadata": {
        "id": "9t6xivm7DV7O"
      }
    },
    {
      "cell_type": "code",
      "source": [
        "import numpy as np #numpy library"
      ],
      "metadata": {
        "id": "wRy5HjWGDxBV"
      },
      "execution_count": null,
      "outputs": []
    },
    {
      "cell_type": "code",
      "source": [
        "np.random.permutation(52) #permutating the array in a random order up to the number 52"
      ],
      "metadata": {
        "colab": {
          "base_uri": "https://localhost:8080/"
        },
        "id": "GUod7PIPEJtW",
        "outputId": "7c5aa92b-b34d-41fb-ed66-fed3a319114c"
      },
      "execution_count": null,
      "outputs": [
        {
          "output_type": "execute_result",
          "data": {
            "text/plain": [
              "array([38, 17, 26, 39, 43, 28,  9, 29, 33, 37, 36, 44, 10, 42, 34, 50, 45,\n",
              "       40,  2, 16, 30, 13, 20,  6, 21, 48,  5, 11, 46,  3, 14,  1, 32, 25,\n",
              "       19, 31, 24,  7, 49, 35, 27, 12, 47,  4, 41, 18, 22,  8, 51, 23,  0,\n",
              "       15])"
            ]
          },
          "metadata": {},
          "execution_count": 55
        }
      ]
    },
    {
      "cell_type": "code",
      "source": [
        "cards = np.random.permutation(52) #storing the permutation in the variable cards"
      ],
      "metadata": {
        "id": "ionH5p9sFDvf"
      },
      "execution_count": null,
      "outputs": []
    },
    {
      "cell_type": "code",
      "source": [
        "cards #variable that we stored the permutation in"
      ],
      "metadata": {
        "colab": {
          "base_uri": "https://localhost:8080/"
        },
        "id": "fYmZ9QhnFGhX",
        "outputId": "6e52db5f-08ca-4c2e-c100-97ee9f5aa6d9"
      },
      "execution_count": null,
      "outputs": [
        {
          "output_type": "execute_result",
          "data": {
            "text/plain": [
              "array([48, 49,  9, 12, 26, 36, 34,  6,  5, 23, 35, 22, 42, 10, 13, 25, 46,\n",
              "       11, 31, 39,  0,  4, 44, 27, 32, 45, 43,  1, 30, 16, 19, 51, 18, 33,\n",
              "       17, 14, 15, 20,  2, 38, 37, 28, 29,  3, 21, 24, 50,  7, 47, 41, 40,\n",
              "        8])"
            ]
          },
          "metadata": {},
          "execution_count": 61
        }
      ]
    },
    {
      "cell_type": "code",
      "source": [
        "cards[0] #showing the first number in the array that we stored"
      ],
      "metadata": {
        "colab": {
          "base_uri": "https://localhost:8080/"
        },
        "id": "_V3gqZK9FJ-o",
        "outputId": "f4acdc6e-4f30-40ff-8bd7-90944bc5b781"
      },
      "execution_count": null,
      "outputs": [
        {
          "output_type": "execute_result",
          "data": {
            "text/plain": [
              "48"
            ]
          },
          "metadata": {},
          "execution_count": 62
        }
      ]
    },
    {
      "cell_type": "markdown",
      "source": [
        "<img src='http://www.milefoot.com/math/discrete/counting/images/cards.png'>"
      ],
      "metadata": {
        "id": "_UhQvi-ZFWEH"
      }
    },
    {
      "cell_type": "code",
      "source": [
        "np.arange(52).reshape(4,13) #setting the array in the correct order up to 52"
      ],
      "metadata": {
        "colab": {
          "base_uri": "https://localhost:8080/"
        },
        "id": "RCFYNSaoFT04",
        "outputId": "98c00b64-ed4c-481a-e4f0-5e087c2e7cd6"
      },
      "execution_count": null,
      "outputs": [
        {
          "output_type": "execute_result",
          "data": {
            "text/plain": [
              "array([[ 0,  1,  2,  3,  4,  5,  6,  7,  8,  9, 10, 11, 12],\n",
              "       [13, 14, 15, 16, 17, 18, 19, 20, 21, 22, 23, 24, 25],\n",
              "       [26, 27, 28, 29, 30, 31, 32, 33, 34, 35, 36, 37, 38],\n",
              "       [39, 40, 41, 42, 43, 44, 45, 46, 47, 48, 49, 50, 51]])"
            ]
          },
          "metadata": {},
          "execution_count": 63
        }
      ]
    },
    {
      "cell_type": "code",
      "source": [
        "np.arange(52).reshape(4,13)%13 #same thing but with remainder 13"
      ],
      "metadata": {
        "colab": {
          "base_uri": "https://localhost:8080/"
        },
        "id": "QYs7Llr3FjS_",
        "outputId": "132977ea-7e44-401b-c2ed-033480c2700a"
      },
      "execution_count": null,
      "outputs": [
        {
          "output_type": "execute_result",
          "data": {
            "text/plain": [
              "array([[ 0,  1,  2,  3,  4,  5,  6,  7,  8,  9, 10, 11, 12],\n",
              "       [ 0,  1,  2,  3,  4,  5,  6,  7,  8,  9, 10, 11, 12],\n",
              "       [ 0,  1,  2,  3,  4,  5,  6,  7,  8,  9, 10, 11, 12],\n",
              "       [ 0,  1,  2,  3,  4,  5,  6,  7,  8,  9, 10, 11, 12]])"
            ]
          },
          "metadata": {},
          "execution_count": 64
        }
      ]
    },
    {
      "cell_type": "code",
      "source": [
        "np.arange(52).reshape(4,13)//13 #same thing but dividing by 13"
      ],
      "metadata": {
        "colab": {
          "base_uri": "https://localhost:8080/"
        },
        "id": "Z0h5w87ZFjyG",
        "outputId": "153ed41e-bbe8-49e1-bc69-f695fae74f0d"
      },
      "execution_count": null,
      "outputs": [
        {
          "output_type": "execute_result",
          "data": {
            "text/plain": [
              "array([[0, 0, 0, 0, 0, 0, 0, 0, 0, 0, 0, 0, 0],\n",
              "       [1, 1, 1, 1, 1, 1, 1, 1, 1, 1, 1, 1, 1],\n",
              "       [2, 2, 2, 2, 2, 2, 2, 2, 2, 2, 2, 2, 2],\n",
              "       [3, 3, 3, 3, 3, 3, 3, 3, 3, 3, 3, 3, 3]])"
            ]
          },
          "metadata": {},
          "execution_count": 65
        }
      ]
    },
    {
      "cell_type": "code",
      "source": [
        "suits = ['Clubs','Spades','Hearts','Diamonds'] #character string and storing it in variable suits\n",
        "names = ['Ace','Two','Three','Four','Five','Six','Seven','Eight','Nine','Ten','Jack','Queen','King'] #character string and storing it in variable names"
      ],
      "metadata": {
        "id": "dvSCO-SpFpz3"
      },
      "execution_count": null,
      "outputs": []
    },
    {
      "cell_type": "code",
      "source": [
        "suits #echoing back the character string stored in the variable"
      ],
      "metadata": {
        "colab": {
          "base_uri": "https://localhost:8080/"
        },
        "id": "kxIVWrwEGHYA",
        "outputId": "7a06ff79-bc7c-474d-dbe2-0c2b5b1f01a5"
      },
      "execution_count": null,
      "outputs": [
        {
          "output_type": "execute_result",
          "data": {
            "text/plain": [
              "['Clubs', 'Spades', 'Hearts', 'Diamonds']"
            ]
          },
          "metadata": {},
          "execution_count": 80
        }
      ]
    },
    {
      "cell_type": "code",
      "source": [
        "suits[0] #showing the first stored character in the variable array"
      ],
      "metadata": {
        "colab": {
          "base_uri": "https://localhost:8080/",
          "height": 35
        },
        "id": "PXk_It_0GKdY",
        "outputId": "308df8e3-b251-4ee4-f2fc-14b8294f41fe"
      },
      "execution_count": null,
      "outputs": [
        {
          "output_type": "execute_result",
          "data": {
            "text/plain": [
              "'Clubs'"
            ],
            "application/vnd.google.colaboratory.intrinsic+json": {
              "type": "string"
            }
          },
          "metadata": {},
          "execution_count": 79
        }
      ]
    },
    {
      "cell_type": "code",
      "source": [
        "names[1] #showing the second stored character in the variable array"
      ],
      "metadata": {
        "colab": {
          "base_uri": "https://localhost:8080/",
          "height": 35
        },
        "id": "dro7dT4vGLpH",
        "outputId": "7305653f-5c76-4c7e-84c7-8d5051a9f609"
      },
      "execution_count": null,
      "outputs": [
        {
          "output_type": "execute_result",
          "data": {
            "text/plain": [
              "'Two'"
            ],
            "application/vnd.google.colaboratory.intrinsic+json": {
              "type": "string"
            }
          },
          "metadata": {},
          "execution_count": 78
        }
      ]
    },
    {
      "cell_type": "code",
      "source": [
        "def card_name(card_number): #python function\n",
        "    \n",
        "    suit = card_number//13 #storing the card number divided by 13 in the variable suit\n",
        "    name = card_number%13 #storing the card number with the remainder 13 in the variable name\n",
        "\n",
        "    return names[name] + \" of \" + suits[suit] #returning the character arrays via the variables & making a card deck with the function"
      ],
      "metadata": {
        "id": "eararqQ3GWt4"
      },
      "execution_count": null,
      "outputs": []
    },
    {
      "cell_type": "code",
      "source": [
        "card_name(0) #showing this with the first stored characters in each array"
      ],
      "metadata": {
        "colab": {
          "base_uri": "https://localhost:8080/",
          "height": 35
        },
        "id": "B2i9KMM6GM1I",
        "outputId": "e3736b6e-96f1-4d00-9508-7ff82571cfa4"
      },
      "execution_count": null,
      "outputs": [
        {
          "output_type": "execute_result",
          "data": {
            "text/plain": [
              "'Ace of Clubs'"
            ],
            "application/vnd.google.colaboratory.intrinsic+json": {
              "type": "string"
            }
          },
          "metadata": {},
          "execution_count": 77
        }
      ]
    },
    {
      "cell_type": "code",
      "source": [
        "card_name(51) #same as before but with the 51st stored character in each array"
      ],
      "metadata": {
        "colab": {
          "base_uri": "https://localhost:8080/",
          "height": 35
        },
        "id": "YrSLqk6ZGooI",
        "outputId": "993d1303-7b80-41cf-820b-385ceea95edd"
      },
      "execution_count": null,
      "outputs": [
        {
          "output_type": "execute_result",
          "data": {
            "text/plain": [
              "'King of Diamonds'"
            ],
            "application/vnd.google.colaboratory.intrinsic+json": {
              "type": "string"
            }
          },
          "metadata": {},
          "execution_count": 81
        }
      ]
    },
    {
      "cell_type": "code",
      "source": [
        "cards = np.random.permutation(52) #setting the permutation in cards variable"
      ],
      "metadata": {
        "id": "yJg7FhmVJR4C"
      },
      "execution_count": null,
      "outputs": []
    },
    {
      "cell_type": "code",
      "source": [
        "top_of_deck         = card_name(cards[0]) #making a separate variable to show the full name of the specific card in the array\n",
        "second_card_in_deck = card_name(cards[1]) #making a separate variable to show the full name of the specific card in the array\n",
        "last_card_in_deck   = card_name(cards[-1]) #making a separate variable to show the full name of the specific card in the array"
      ],
      "metadata": {
        "id": "Xaq-xJseHECo"
      },
      "execution_count": null,
      "outputs": []
    },
    {
      "cell_type": "code",
      "source": [
        "top_of_deck,second_card_in_deck,last_card_in_deck #showing the results of the previous variable"
      ],
      "metadata": {
        "colab": {
          "base_uri": "https://localhost:8080/"
        },
        "id": "w7TaufNsHz73",
        "outputId": "4f29b4aa-3f96-465a-a872-3d2ef9466d9a"
      },
      "execution_count": null,
      "outputs": [
        {
          "output_type": "execute_result",
          "data": {
            "text/plain": [
              "('Queen of Clubs', 'Four of Diamonds', 'Two of Spades')"
            ]
          },
          "metadata": {},
          "execution_count": 87
        }
      ]
    },
    {
      "cell_type": "code",
      "source": [
        "for i in range(5): #for loop to show the first 5 results in the array\n",
        "    print(card_name(cards[i])) #printing these results"
      ],
      "metadata": {
        "colab": {
          "base_uri": "https://localhost:8080/"
        },
        "id": "qjAy_f9HH3IP",
        "outputId": "0678e061-9ee9-4df1-a007-0f9196b85ccf"
      },
      "execution_count": null,
      "outputs": [
        {
          "output_type": "stream",
          "name": "stdout",
          "text": [
            "Queen of Clubs\n",
            "Four of Diamonds\n",
            "Six of Clubs\n",
            "Ace of Hearts\n",
            "Jack of Spades\n"
          ]
        }
      ]
    },
    {
      "cell_type": "code",
      "source": [
        "card_url_head = \"https://www.improvemagic.com/wp-content/uploads/2020/11/\" #tying the specific array we did before with a image URL to show the specific card\n",
        "card_url_tail = \".png\" #file type of the said image"
      ],
      "metadata": {
        "id": "BMWpmC4vJaiy"
      },
      "execution_count": null,
      "outputs": []
    },
    {
      "cell_type": "code",
      "source": [
        "suit = ['k','p','s','l'] #setting the character array into a variable\n",
        "card = ['a','2','3','4','5','6','7','8','9','10','j','q','k'] #another character array set in a variable"
      ],
      "metadata": {
        "id": "Hnd_9PlnJfoT"
      },
      "execution_count": null,
      "outputs": []
    },
    {
      "cell_type": "code",
      "source": [
        "i = np.random.randint(4) #generating a random number between 0-3 in the array & storing it in i\n",
        "j = np.random.randint(13) #generating a random number between 0-12 in the array & storing it in j"
      ],
      "metadata": {
        "id": "oDGZpRzmKJtK"
      },
      "execution_count": null,
      "outputs": []
    },
    {
      "cell_type": "code",
      "source": [
        "i,j #showing the results of our previous stored variables"
      ],
      "metadata": {
        "colab": {
          "base_uri": "https://localhost:8080/"
        },
        "id": "55C1fJhaKOsq",
        "outputId": "a26d28c9-68cc-451c-9942-26be04ad8ea9"
      },
      "execution_count": null,
      "outputs": [
        {
          "output_type": "execute_result",
          "data": {
            "text/plain": [
              "(1, 11)"
            ]
          },
          "metadata": {},
          "execution_count": 102
        }
      ]
    },
    {
      "cell_type": "code",
      "source": [
        "suit[i] #using the previous stored variable in our suit array"
      ],
      "metadata": {
        "colab": {
          "base_uri": "https://localhost:8080/",
          "height": 35
        },
        "id": "kQC1dIOZKtR7",
        "outputId": "4cdd03a1-7a4e-4468-8232-94223d19c898"
      },
      "execution_count": null,
      "outputs": [
        {
          "output_type": "execute_result",
          "data": {
            "text/plain": [
              "'p'"
            ],
            "application/vnd.google.colaboratory.intrinsic+json": {
              "type": "string"
            }
          },
          "metadata": {},
          "execution_count": 104
        }
      ]
    },
    {
      "cell_type": "code",
      "source": [
        "card[j] #using the previous stored variable in our card array"
      ],
      "metadata": {
        "colab": {
          "base_uri": "https://localhost:8080/",
          "height": 35
        },
        "id": "Frm833YNKRiq",
        "outputId": "f6857ea0-db59-409a-ec87-b1c6a65f2702"
      },
      "execution_count": null,
      "outputs": [
        {
          "output_type": "execute_result",
          "data": {
            "text/plain": [
              "'q'"
            ],
            "application/vnd.google.colaboratory.intrinsic+json": {
              "type": "string"
            }
          },
          "metadata": {},
          "execution_count": 103
        }
      ]
    },
    {
      "cell_type": "code",
      "source": [
        "from IPython.core.display import display, HTML #python library to import HTML functionality via images"
      ],
      "metadata": {
        "id": "V5sEJkEeKrT6"
      },
      "execution_count": null,
      "outputs": []
    },
    {
      "cell_type": "code",
      "source": [
        "def show_img(img): #python function to show an image via HTML\n",
        "  display(HTML('<img src=' + img + '>'))"
      ],
      "metadata": {
        "id": "5vJkPgb0LNqi"
      },
      "execution_count": null,
      "outputs": []
    },
    {
      "cell_type": "code",
      "source": [
        "img = card_url_head + suit[i]+card[j] + card_url_tail #storing the image for a random suit in the card deck"
      ],
      "metadata": {
        "id": "Ubz8E9OqLVRC"
      },
      "execution_count": null,
      "outputs": []
    },
    {
      "cell_type": "code",
      "source": [
        "show_img(img) #displaying our results"
      ],
      "metadata": {
        "colab": {
          "base_uri": "https://localhost:8080/",
          "height": 334
        },
        "id": "ixy-S9uoLXAa",
        "outputId": "56443a2c-5352-4ce3-ff0e-9c9f14c9ca56"
      },
      "execution_count": null,
      "outputs": [
        {
          "output_type": "display_data",
          "data": {
            "text/plain": [
              "<IPython.core.display.HTML object>"
            ],
            "text/html": [
              "<img src=https://www.improvemagic.com/wp-content/uploads/2020/11/pq.png>"
            ]
          },
          "metadata": {}
        }
      ]
    }
  ]
}